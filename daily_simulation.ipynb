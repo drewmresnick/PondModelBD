#jupyter notebook for showing the model run
